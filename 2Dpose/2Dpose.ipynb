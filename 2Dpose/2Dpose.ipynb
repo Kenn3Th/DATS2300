{
 "cells": [
  {
   "cell_type": "markdown",
   "metadata": {},
   "source": [
    "# 2Dpose exercises\n",
    "* 1.a) find $\\textbf{p} = \\begin{bmatrix} x\\\\ y \\end{bmatrix}$ from the diagram on exercise pdf."
   ]
  },
  {
   "cell_type": "code",
   "execution_count": 1,
   "metadata": {},
   "outputs": [],
   "source": [
    "import numpy as np"
   ]
  },
  {
   "cell_type": "code",
   "execution_count": 2,
   "metadata": {},
   "outputs": [],
   "source": [
    "Op1 = np.array([[1],[3]])\n",
    "Op2 = np.array([[4],[2]])\n",
    "Ap1 = np.array([[0],[2]])\n",
    "Ap2 = np.array([[3],[1]])\n",
    "Bp1 = np.array([[0],[-1]])\n",
    "Bp2 = np.array([[2],[0]])\n",
    "Cp1 = np.array([[3],[-2]])\n",
    "Cp2 = np.array([[0],[-1]])"
   ]
  },
  {
   "cell_type": "markdown",
   "metadata": {},
   "source": [
    "* 1.b) find the rotation matrix \n",
    "$^{from}T_{to} = \\begin{bmatrix} \n",
    "cos\\theta & -sin\\theta\\\\\n",
    "sin\\theta & cos\\theta\n",
    "\\end{bmatrix}$"
   ]
  },
  {
   "cell_type": "code",
   "execution_count": 48,
   "metadata": {},
   "outputs": [],
   "source": [
    "#Rotation matrix function\n",
    "def rotMat(theta):\n",
    "    theta = np.radians(theta)\n",
    "    R = np.array([[np.cos(theta), -np.sin(theta)],[np.sin(theta), np.cos(theta)]])\n",
    "    return R\n",
    "\n",
    "#Extended vector function\n",
    "def exVector(vec):\n",
    "    row = 0\n",
    "    return np.append(vec,np.array([[1]]), axis=row)\n",
    "\n",
    "#Transformation matrix function\n",
    "def transMat(theta,vector):\n",
    "    #defining variables\n",
    "    row = 0\n",
    "    coloumn = 1\n",
    "    zeroRow = np.array([[0,0]])\n",
    "    R = rotMat(theta)\n",
    "    vec = exVector(vector)\n",
    "    exMat = np.append(R,zeroRow,axis=row)\n",
    "    T = np.append(exMat,vec,axis=coloumn)\n",
    "    return T.round(3)"
   ]
  },
  {
   "cell_type": "code",
   "execution_count": 4,
   "metadata": {},
   "outputs": [
    {
     "data": {
      "text/plain": [
       "array([[ 1., -0.,  1.],\n",
       "       [ 0.,  1.,  1.],\n",
       "       [ 0.,  0.,  1.]])"
      ]
     },
     "execution_count": 4,
     "metadata": {},
     "output_type": "execute_result"
    }
   ],
   "source": [
    "thetA = 0\n",
    "OvA = np.array([[1],[1]])\n",
    "OTA = transMat(thetA,OvA)\n",
    "OTA"
   ]
  },
  {
   "cell_type": "code",
   "execution_count": 5,
   "metadata": {},
   "outputs": [
    {
     "data": {
      "text/plain": [
       "array([[ 0.707,  0.707,  2.   ],\n",
       "       [-0.707,  0.707,  4.   ],\n",
       "       [ 0.   ,  0.   ,  1.   ]])"
      ]
     },
     "execution_count": 5,
     "metadata": {},
     "output_type": "execute_result"
    }
   ],
   "source": [
    "thetB = -np.pi/4\n",
    "OvB = np.array([[2],[4]])\n",
    "OTB = transMat(thetB,OvB)\n",
    "OTB"
   ]
  },
  {
   "cell_type": "code",
   "execution_count": 6,
   "metadata": {},
   "outputs": [
    {
     "data": {
      "text/plain": [
       "array([[-1., -0.,  4.],\n",
       "       [ 0., -1.,  1.],\n",
       "       [ 0.,  0.,  1.]])"
      ]
     },
     "execution_count": 6,
     "metadata": {},
     "output_type": "execute_result"
    }
   ],
   "source": [
    "thetC = np.pi\n",
    "OvC = np.array([[4],[1]])\n",
    "OTC = transMat(thetC,OvC)\n",
    "OTC"
   ]
  },
  {
   "cell_type": "markdown",
   "metadata": {},
   "source": [
    "* 1.c)"
   ]
  },
  {
   "cell_type": "code",
   "execution_count": 7,
   "metadata": {},
   "outputs": [
    {
     "data": {
      "text/plain": [
       "array([[-0.707,  0.707,  3.536],\n",
       "       [-0.707, -0.707, -0.707],\n",
       "       [ 0.   ,  0.   ,  1.   ]])"
      ]
     },
     "execution_count": 7,
     "metadata": {},
     "output_type": "execute_result"
    }
   ],
   "source": [
    "BthetaC = -(3*np.pi)/4\n",
    "BvC = np.array([[(5*np.sqrt(2))/2],[-np.sqrt(2)/2]])\n",
    "BTC = transMat(BthetaC, BvC)\n",
    "BTC"
   ]
  },
  {
   "cell_type": "code",
   "execution_count": 8,
   "metadata": {},
   "outputs": [
    {
     "data": {
      "text/plain": [
       "array([[-1., -0.,  3.],\n",
       "       [ 0., -1.,  0.],\n",
       "       [ 0.,  0.,  1.]])"
      ]
     },
     "execution_count": 8,
     "metadata": {},
     "output_type": "execute_result"
    }
   ],
   "source": [
    "CthetaA = np.pi\n",
    "CvA = np.array([[3],[0]])\n",
    "CTA = transMat(CthetaA,CvA)\n",
    "CTA"
   ]
  },
  {
   "cell_type": "code",
   "execution_count": 9,
   "metadata": {},
   "outputs": [
    {
     "data": {
      "text/plain": [
       "array([[ 0.707,  0.707,  1.   ],\n",
       "       [-0.707,  0.707,  3.   ],\n",
       "       [ 0.   ,  0.   ,  1.   ]])"
      ]
     },
     "execution_count": 9,
     "metadata": {},
     "output_type": "execute_result"
    }
   ],
   "source": [
    "AthetaB = -np.pi/4\n",
    "AvB = np.array([[1],[3]])\n",
    "ATB = transMat(AthetaB, AvB)\n",
    "ATB"
   ]
  },
  {
   "cell_type": "markdown",
   "metadata": {},
   "source": [
    "* 1.d) Use the obtained transform matrices to determin the position vectors\n",
    "\n",
    "$$^{A}\\overset{\\sim}{p} = ^{B}T_A ^{B}\\overset{\\sim}{p} = (^{A}T_B)^{-1} \\text{ } ^{B}\\overset{\\sim}{p} $$"
   ]
  },
  {
   "cell_type": "code",
   "execution_count": 10,
   "metadata": {},
   "outputs": [
    {
     "data": {
      "text/plain": [
       "array([[0.],\n",
       "       [2.]])"
      ]
     },
     "execution_count": 10,
     "metadata": {},
     "output_type": "execute_result"
    }
   ],
   "source": [
    "OTAinv = np.linalg.inv(OTA)\n",
    "Op = exVector(Op1)\n",
    "Ap = np.delete(OTAinv.dot(Op),2,axis=0)\n",
    "Ap"
   ]
  },
  {
   "cell_type": "code",
   "execution_count": 31,
   "metadata": {},
   "outputs": [
    {
     "data": {
      "text/plain": [
       "array([[ 0.   ],\n",
       "       [-1.414]])"
      ]
     },
     "execution_count": 31,
     "metadata": {},
     "output_type": "execute_result"
    }
   ],
   "source": [
    "OTBinv = np.linalg.inv(OTB)\n",
    "Bp = np.delete(OTBinv.dot(Op),2,axis=0)\n",
    "Bp.round(3)"
   ]
  },
  {
   "cell_type": "code",
   "execution_count": 12,
   "metadata": {},
   "outputs": [
    {
     "data": {
      "text/plain": [
       "array([[ 3.],\n",
       "       [-2.]])"
      ]
     },
     "execution_count": 12,
     "metadata": {},
     "output_type": "execute_result"
    }
   ],
   "source": [
    "OTCinv = np.linalg.inv(OTC)\n",
    "Cp = np.delete(OTCinv.dot(Op),2,axis=0)\n",
    "Cp"
   ]
  },
  {
   "cell_type": "code",
   "execution_count": 13,
   "metadata": {},
   "outputs": [
    {
     "data": {
      "text/plain": [
       "array([[3.],\n",
       "       [1.]])"
      ]
     },
     "execution_count": 13,
     "metadata": {},
     "output_type": "execute_result"
    }
   ],
   "source": [
    "Op2ex = exVector(Op2)\n",
    "Ap_2 = np.delete(OTAinv.dot(Op2ex),2,axis=0)\n",
    "Ap_2"
   ]
  },
  {
   "cell_type": "code",
   "execution_count": 32,
   "metadata": {},
   "outputs": [
    {
     "data": {
      "text/plain": [
       "array([[ 2.829],\n",
       "       [-0.   ]])"
      ]
     },
     "execution_count": 32,
     "metadata": {},
     "output_type": "execute_result"
    }
   ],
   "source": [
    "Bp_2 = np.delete(OTBinv.dot(Op2ex),2,axis=0)\n",
    "Bp_2.round(3) #e^-16 = 0"
   ]
  },
  {
   "cell_type": "code",
   "execution_count": 15,
   "metadata": {},
   "outputs": [
    {
     "data": {
      "text/plain": [
       "array([[ 0.],\n",
       "       [-1.]])"
      ]
     },
     "execution_count": 15,
     "metadata": {},
     "output_type": "execute_result"
    }
   ],
   "source": [
    "Cp_2 = np.delete(OTCinv.dot(Op2ex),2,axis=0)\n",
    "Cp_2"
   ]
  },
  {
   "cell_type": "markdown",
   "metadata": {},
   "source": [
    "## 2 Determine if a matrix is a valid rotation matrix\n",
    "\n",
    "$det(R) = 1$ and $R^TR = I$"
   ]
  },
  {
   "cell_type": "code",
   "execution_count": 16,
   "metadata": {},
   "outputs": [],
   "source": [
    "def validRot(R):\n",
    "    detR = np.linalg.det(R)\n",
    "    rtr = np.linalg.inv(R).dot(R)\n",
    "    if (round(detR) == round(sum(rtr[0])) == round(sum(rtr[1])) == 1):\n",
    "        print(\"This is a valid rotation matrix, see for your self!\")\n",
    "        print(f\"det(R) = {detR} and I rounded it up to be {round(detR)}\")\n",
    "        print(f\"Matrix = \\n{rtr}\\nI rounded first row to be {round(sum(rtr[0]))}\\nand second {round(sum(rtr[0]))}\")\n",
    "    else:\n",
    "        print(\"This matrix is not a valid rotation matrix\")"
   ]
  },
  {
   "cell_type": "markdown",
   "metadata": {},
   "source": [
    "* 2a)\n",
    "\n",
    "$R = \\begin{bmatrix} 0.995 & -0.0998\\\\ 0.0998 & 0.995 \\end{bmatrix}$"
   ]
  },
  {
   "cell_type": "code",
   "execution_count": 17,
   "metadata": {},
   "outputs": [
    {
     "name": "stdout",
     "output_type": "stream",
     "text": [
      "This is a valid rotation matrix, see for your self!\n",
      "det(R) = 0.9999850399999999 and I rounded it up to be 1\n",
      "Matrix = \n",
      "[[ 1.00000000e+00 -2.24732008e-18]\n",
      " [ 1.79944683e-18  1.00000000e+00]]\n",
      "I rounded first row to be 1\n",
      "and second 1\n"
     ]
    }
   ],
   "source": [
    "R = np.array([[0.995, -0.0998],[0.0998, 0.995]])\n",
    "validRot(R)"
   ]
  },
  {
   "cell_type": "markdown",
   "metadata": {},
   "source": [
    "* 2b) = 2e)\n",
    "\n",
    "$R = \\begin{bmatrix} 1 & 0\\\\ 0 & 1 \\end{bmatrix}$"
   ]
  },
  {
   "cell_type": "code",
   "execution_count": 18,
   "metadata": {},
   "outputs": [
    {
     "name": "stdout",
     "output_type": "stream",
     "text": [
      "This is a valid rotation matrix, see for your self!\n",
      "det(R) = 1.0 and I rounded it up to be 1\n",
      "Matrix = \n",
      "[[1. 0.]\n",
      " [0. 1.]]\n",
      "I rounded first row to be 1\n",
      "and second 1\n"
     ]
    }
   ],
   "source": [
    "R = np.array([[1,0],[0,1]])\n",
    "validRot(R)"
   ]
  },
  {
   "cell_type": "markdown",
   "metadata": {},
   "source": [
    "* 2c)\n",
    "\n",
    "$R = \\begin{bmatrix} 1 & 0\\\\ 0 & -1 \\end{bmatrix}$"
   ]
  },
  {
   "cell_type": "code",
   "execution_count": 19,
   "metadata": {},
   "outputs": [
    {
     "name": "stdout",
     "output_type": "stream",
     "text": [
      "This matrix is not a valid rotation matrix\n"
     ]
    }
   ],
   "source": [
    "R = np.array([[1,0],[0,-1]])\n",
    "validRot(R)"
   ]
  },
  {
   "cell_type": "markdown",
   "metadata": {},
   "source": [
    "* 2d)\n",
    "\n",
    "$R = \\begin{bmatrix} 1 & 1\\\\ 0 & 2 \\end{bmatrix}$"
   ]
  },
  {
   "cell_type": "code",
   "execution_count": 20,
   "metadata": {},
   "outputs": [
    {
     "name": "stdout",
     "output_type": "stream",
     "text": [
      "This matrix is not a valid rotation matrix\n"
     ]
    }
   ],
   "source": [
    "R = np.array([[1,1],[0,2]])\n",
    "validRot(R)"
   ]
  },
  {
   "cell_type": "markdown",
   "metadata": {},
   "source": [
    "* 2f) = 2g)\n",
    "\n",
    "$R = \\begin{bmatrix} \\frac{\\sqrt{2}}{2} & -\\frac{\\sqrt{2}}{2}\\\\ \\frac{\\sqrt{2}}{2} & \\frac{\\sqrt{2}}{2} \\end{bmatrix}$"
   ]
  },
  {
   "cell_type": "code",
   "execution_count": 21,
   "metadata": {},
   "outputs": [
    {
     "name": "stdout",
     "output_type": "stream",
     "text": [
      "This is a valid rotation matrix, see for your self!\n",
      "det(R) = 1.0 and I rounded it up to be 1\n",
      "Matrix = \n",
      "[[ 1.00000000e+00 -1.01465364e-17]\n",
      " [-1.01465364e-17  1.00000000e+00]]\n",
      "I rounded first row to be 1\n",
      "and second 1\n"
     ]
    }
   ],
   "source": [
    "R = np.array([[np.sqrt(2)/2,-np.sqrt(2)/2],[np.sqrt(2)/2,np.sqrt(2)/2]])\n",
    "validRot(R)"
   ]
  },
  {
   "cell_type": "markdown",
   "metadata": {},
   "source": [
    "* 2h)\n",
    "\n",
    "$R = \\begin{bmatrix} -0.5 & -0.866\\\\ 0.866 & -0.5 \\end{bmatrix}$"
   ]
  },
  {
   "cell_type": "code",
   "execution_count": 22,
   "metadata": {},
   "outputs": [
    {
     "name": "stdout",
     "output_type": "stream",
     "text": [
      "This is a valid rotation matrix, see for your self!\n",
      "det(R) = 0.999956 and I rounded it up to be 1\n",
      "Matrix = \n",
      "[[1.00000000e+00 5.55111512e-17]\n",
      " [2.64234839e-17 1.00000000e+00]]\n",
      "I rounded first row to be 1\n",
      "and second 1\n"
     ]
    }
   ],
   "source": [
    "R = np.array([[-0.5,-0.866],[0.866,-0.5]])\n",
    "validRot(R)"
   ]
  },
  {
   "cell_type": "markdown",
   "metadata": {},
   "source": [
    "* 2i)\n",
    "\n",
    "$R = \\begin{bmatrix} -0.5 & -0.866\\\\ 0.866 & 0.5 \\end{bmatrix}$"
   ]
  },
  {
   "cell_type": "code",
   "execution_count": 23,
   "metadata": {},
   "outputs": [
    {
     "name": "stdout",
     "output_type": "stream",
     "text": [
      "This matrix is not a valid rotation matrix\n"
     ]
    }
   ],
   "source": [
    "R = np.array([[-0.5,-0.866],[0.866,0.5]])\n",
    "validRot(R)"
   ]
  },
  {
   "cell_type": "markdown",
   "metadata": {},
   "source": [
    "## 3 Consider the rotation matrix \n",
    "$R(\\theta) = \\begin{bmatrix} \n",
    "cos(\\theta) &  -sin(\\theta)\\\\\n",
    "sin(\\theta) & cos(\\theta) \\end{bmatrix}$"
   ]
  },
  {
   "cell_type": "markdown",
   "metadata": {},
   "source": [
    "* 3.a) Show that $R(0) = I_2$\n",
    "\n",
    "$R(0) = \\begin{bmatrix} \n",
    "cos(0) &  -sin(0)\\\\\n",
    "sin(0) & cos(0) \\end{bmatrix} =\n",
    "\\begin{bmatrix} \n",
    "1 &  0\\\\\n",
    "0 & 1 \\end{bmatrix} = I_2$"
   ]
  },
  {
   "cell_type": "markdown",
   "metadata": {},
   "source": [
    "* 3.b) Show that for any angle $\\theta$ $det(R(\\theta)) = +1$"
   ]
  },
  {
   "cell_type": "markdown",
   "metadata": {},
   "source": [
    "If $A = \\begin{bmatrix}a & b\\\\ c & d \\end{bmatrix}$\n",
    "then $det(A) = \\begin{vmatrix}a & b\\\\ c & d  \\end{vmatrix} = ad - bc $\n",
    "\n",
    "And we know from trigonometry that $cos^2 + sin^2 = 1$\n",
    "\n",
    "Therfore $det(R) = \\begin{vmatrix}cos(\\theta) & -sin(\\theta)\\\\ sin(\\theta) & cos(\\theta)  \\end{vmatrix} \n",
    "= cos^2(\\theta) + sin^2(\\theta) = 1 $"
   ]
  },
  {
   "cell_type": "markdown",
   "metadata": {},
   "source": [
    "* 3.c) Show that $R^TR = I_2$"
   ]
  },
  {
   "cell_type": "markdown",
   "metadata": {},
   "source": [
    "$R^T = \\begin{bmatrix} cos(\\theta) & sin(\\theta)\\\\-sin(\\theta) & cos(\\theta)\\end{bmatrix}$\n",
    "\n",
    "$R^TR = \\begin{bmatrix} cos(\\theta) & sin(\\theta)\\\\-sin(\\theta) & cos(\\theta)\\end{bmatrix}\n",
    "\\begin{bmatrix} cos(\\theta) & -sin(\\theta)\\\\sin(\\theta) & cos(\\theta)\\end{bmatrix} = \n",
    "\\begin{bmatrix} cos^2(\\theta) + sin^2(\\theta) & -cos(\\theta)sin(\\theta) + cos(\\theta)sin(\\theta) \\\\ -cos(\\theta)sin(\\theta) + cos(\\theta)sin(\\theta) & sin^2(\\theta)+cos^2(\\theta)\\end{bmatrix} = \\begin{bmatrix} 1 & 0\\\\ 0 & 1\\end{bmatrix} = I_2$"
   ]
  },
  {
   "cell_type": "markdown",
   "metadata": {},
   "source": [
    "* 3.d) Show that $R(-\\theta) = R(\\theta)^T$"
   ]
  },
  {
   "cell_type": "markdown",
   "metadata": {},
   "source": [
    "To show this we need to know some simple trigonometry:\n",
    "$$ cos(-\\theta) = cos(\\theta)$$ $$ sin(-\\theta) = -sin(\\theta) $$\n",
    "And if we have a 2x2 matrix A:\n",
    "$$A = \\begin{bmatrix} a & b\\\\ c & d \\end{bmatrix} $$\n",
    "The transpose of A would be \n",
    "$$A^T = \\begin{bmatrix} a & -c\\\\ -b & d \\end{bmatrix} $$\n",
    "Whith this knowledge we kan start calculating:\n",
    "\n",
    "$R(-\\theta) =  \\begin{bmatrix} \n",
    "cos(-\\theta) & -sin(-\\theta)\\\\ sin(-\\theta) & cos(-\\theta) \\end{bmatrix} =\n",
    "\\begin{bmatrix} \n",
    "cos(\\theta) & sin(\\theta)\\\\ -sin(\\theta) & cos(\\theta) \\end{bmatrix} = R(\\theta)^T\n",
    "$"
   ]
  },
  {
   "cell_type": "markdown",
   "metadata": {},
   "source": [
    "* 3.e) Show that R(a)R(b) = R(a+b)"
   ]
  },
  {
   "cell_type": "markdown",
   "metadata": {},
   "source": [
    "To show this we need to know some advanced trigonometry formulas:\n",
    "\n",
    "$$cos(a\\pm b) = cos(a)cos(b) \\mp sin(a)sin(b)$$\n",
    "$$sin(a \\pm b) = sin(a)cos(b) \\pm sin(b)cos(a) $$"
   ]
  },
  {
   "cell_type": "markdown",
   "metadata": {},
   "source": [
    "$R(a)R(b) = \n",
    "\\begin{bmatrix} cos(a) & -sin(a) \\\\ sin(a) & cos(a) \\end{bmatrix}\n",
    "\\begin{bmatrix} cos(b) & -sin(b) \\\\ sin(b) & cos(b) \\end{bmatrix} =\n",
    "\\begin{bmatrix} cos(a)cos(b) -sin(a)sin(b) & -(sin(a)cos(b)+sin(b)cos(a)) \\\\ \n",
    "sin(a)cos(b)+sin(b)cos(a) & cos(a)cos(b) -sin(a)sin(b) \\end{bmatrix}\n",
    "$"
   ]
  },
  {
   "cell_type": "markdown",
   "metadata": {},
   "source": [
    "And with the trigonometric formulas above we can se that we can write it like:\n",
    "\n",
    "$R(a)R(b)= \\begin{bmatrix} cos(a+b) & -sin(a+b) \\\\ sin(a+b) & cos(a+b) \\end{bmatrix} = R(a+b) $"
   ]
  },
  {
   "cell_type": "markdown",
   "metadata": {},
   "source": [
    "* 3.f) Show that the coloumns of $R(\\theta)$ is orthonormal\n",
    "\n",
    "The definition of orthonormality for two vectors is:\n",
    "If two vectors are ortogonal and both have unit length, the vectors are orthonormal.\n",
    "\n",
    "So lets start by dividing $R(\\theta)$ into two vectors:"
   ]
  },
  {
   "cell_type": "markdown",
   "metadata": {},
   "source": [
    "$R(\\theta) = \\begin{bmatrix} \n",
    "cos(\\theta) & -sin(\\theta)\\\\ \n",
    "sin(\\theta) & cos(\\theta)\n",
    "\\end{bmatrix} = \\begin{bmatrix}\\textbf{a} & \\textbf{b} \\end{bmatrix}$\n",
    "\n",
    "If two vectors are ortogonal the dot product between them is zero\n",
    "\n",
    "$\\textbf{a}\\cdot\\textbf{b} = \\textbf{a}^T\\textbf{b} = \n",
    "\\begin{bmatrix} cos(\\theta) & sin(\\theta) \\end{bmatrix}\n",
    "\\begin{bmatrix} -sin(\\theta)\\\\ cos(\\theta) \\end{bmatrix} =\n",
    "-cos(\\theta)sin(\\theta) +cos(\\theta)sin(\\theta) = 0\n",
    "$\n",
    "\n",
    "Next step is to find if $\\textbf{a}$ and $\\textbf{b}$ both have unit lenght:\n",
    "$$||\\textbf{a}|| = ||\\textbf{a}^T\\textbf{a}|| = \\sqrt{ a_1^2 + a_2^2 } = 1$$\n",
    "\n",
    "$||\\textbf{a}|| = ||\\textbf{a}^T\\textbf{a}|| = \\sqrt{cos^2(\\theta) + sin^2(\\theta)} = \\sqrt{1}=1\\\\\n",
    "||\\textbf{b}|| = ||\\textbf{b}^T\\textbf{b}|| = \\sqrt{cos^2(\\theta) + sin^2(\\theta)} = \\sqrt{1}=1$\n",
    "\n",
    "As shown above $\\textbf{a}$ and $\\textbf{b}$ both have unit length and the dot product between them is zero. This corresponds to the definition of orthonormality stated above, this means that $\\textbf{a}$ and $\\textbf{b}$ are orthonormal vectors."
   ]
  },
  {
   "cell_type": "markdown",
   "metadata": {},
   "source": [
    "* 3.g) Show that the rows of $R(\\theta)$ is orthonormal"
   ]
  },
  {
   "cell_type": "markdown",
   "metadata": {},
   "source": [
    "The rows of $R(\\theta)$ is:\n",
    "\n",
    "$\\textbf{r}_1 = \\begin{bmatrix} cos(\\theta) & -sin(\\theta) \\end{bmatrix}\\\\\n",
    "\\textbf{r}_2 = \\begin{bmatrix} sin(\\theta) & cos(\\theta) \\end{bmatrix}\n",
    "$\n",
    "\n",
    "$\n",
    "||\\textbf{r}_1|| = ||\\textbf{r}_1\\textbf{r}_1^T|| = \n",
    "||\\begin{bmatrix} cos(\\theta) & -sin(\\theta) \\end{bmatrix}\\begin{bmatrix} cos(\\theta) \\\\ -sin(\\theta) \\end{bmatrix}|| = \\sqrt{cos^2(\\theta) + sin^2(\\theta)} = \\sqrt{1}=1\n",
    "$\n",
    "\n",
    "$\n",
    "||\\textbf{r}_2|| = ||\\textbf{r}_2\\textbf{r}_2^T|| = \n",
    "||\\begin{bmatrix} sin(\\theta) & cos(\\theta) \\end{bmatrix}\\begin{bmatrix} sin(\\theta) \\\\ cos(\\theta) \\end{bmatrix}|| = \\sqrt{sin^2(\\theta) + cos^2(\\theta)} = \\sqrt{1}=1\n",
    "$"
   ]
  },
  {
   "cell_type": "markdown",
   "metadata": {},
   "source": [
    "## 4 Consider the transform matrix\n",
    "$$T_1 = \\begin{bmatrix} R_1 & t_1\\\\ 0_{1x2} & 1  \\end{bmatrix} \\text{ , } T_2 = \\begin{bmatrix} R_2 & t_2\\\\ 0_{1x2} & 1  \\end{bmatrix}$$\n",
    "Where \n",
    "$$t_1 =\\begin{bmatrix} x_1 \\\\ y_1 \\end{bmatrix} \\text{ , }t_2 =\\begin{bmatrix} x_2 \\\\ y_2 \\end{bmatrix}\n",
    "\\text{ and } 0_{1x2} = \\begin{bmatrix} 0 & 0 \\end{bmatrix}\n",
    "$$\n",
    "Show that \n",
    "$$T_1T_2 = \\begin{bmatrix} R_1R_2 & t_1+R_1t_2\\\\ 0_{1x2} & 1  \\end{bmatrix}$$"
   ]
  },
  {
   "cell_type": "markdown",
   "metadata": {},
   "source": [
    "$T_1T_2 =  \\begin{bmatrix} R_1 & t_1\\\\ 0_{1x2} & 1  \\end{bmatrix}\\begin{bmatrix} R_2 & t_2\\\\ 0_{1x2} & 1  \\end{bmatrix} = \\begin{bmatrix} R_1R_2 + t_10_{1x2} & R_1t_2+t_1\\\\ 0_{1x2}R_2 + 0_{1x2} &0_{1x2}t_2 +1  \\end{bmatrix}$\n",
    "\n",
    "From here we can show that\n",
    "\n",
    "$\n",
    "0_{1x2}t_1 = \\begin{bmatrix}0 & 0 \\end{bmatrix}\\begin{bmatrix}x_1\\\\x_2 \\end{bmatrix} = 0 + 0 = 0\n",
    "$\n",
    "\n",
    "Also for $0_{1x2}R_1 = 0$\n",
    "\n",
    "With this we can rewrite the matrix to\n",
    "\n",
    "$T_1T_2 = \\begin{bmatrix} R_1R_2 & t_1+R_1t_2\\\\ 0_{1x2} & 1  \\end{bmatrix}$"
   ]
  },
  {
   "cell_type": "markdown",
   "metadata": {},
   "source": [
    "## Excercise 5"
   ]
  },
  {
   "cell_type": "markdown",
   "metadata": {},
   "source": [
    "Show that $T^{-1} = \\begin{bmatrix} R^T &  -R^Tt \\\\ 0_{1x2} & 1 \\end{bmatrix}$ is the inverse from \n",
    "$T = \\begin{bmatrix} R &  t \\\\ 0_{1x2} & 1 \\end{bmatrix}$ \n",
    "\n",
    "HINT: Show that $TT^{-1} = I_3$"
   ]
  },
  {
   "cell_type": "markdown",
   "metadata": {},
   "source": [
    "$TT^{-1} = \\begin{bmatrix} R &  t \\\\ 0_{1x2} & 1 \\end{bmatrix}\\begin{bmatrix} R^T &  -R^Tt \\\\ 0_{1x2} & 1 \\end{bmatrix} = \\begin{bmatrix} RR^T + t0_{1x2} &  -RR^Tt + t \\\\ 0_{1x2}R^T + 0_{1x2}  & -R^Tt0_{1x2}+ 1 \\end{bmatrix}$\n",
    "\n",
    "Before I can go any further I need to show some of my calculation\n",
    "\n",
    "$RR^T = \\begin{bmatrix} cos(\\theta) & -sin(\\theta) \\\\ sin(\\theta) & cos(\\theta)\\end{bmatrix}\n",
    "\\begin{bmatrix} cos(\\theta) & sin(\\theta) \\\\ -sin(\\theta) & cos(\\theta)\\end{bmatrix} = \n",
    "\\begin{bmatrix} cos^2(\\theta) + sin^2(\\theta) &  sin(\\theta)cos(\\theta) - sin(\\theta)cos(\\theta) \\\\ sin(\\theta)cos(\\theta) - sin(\\theta)cos(\\theta) & cos^2(\\theta) + sin^2(\\theta)\\end{bmatrix} = \n",
    "\\begin{bmatrix} 1 & 0 \\\\ 0 & 1 \\end{bmatrix} = I_2$\n",
    "\n",
    "Multiplying something with an identity matrix is the same as multiplying with one, and if you multiply something with $0_{1x2}$ you get [0 0] back"
   ]
  },
  {
   "cell_type": "markdown",
   "metadata": {},
   "source": [
    "This means that :\n",
    "\n",
    "$TT^{-1} = \n",
    "\\begin{bmatrix} RR^T + t0_{1x2} &  -RR^Tt + t \\\\ 0_{1x2}R^T + 0_{1x2} & -R^Tt0_{1x2}+ 1 \\end{bmatrix} = \\begin{bmatrix} I_2 &  -t + t \\\\ 0_{1x2}  & 1 \\end{bmatrix} = \n",
    "\\begin{bmatrix} 1 & 0 & 0 \\\\ 0 & 1 & 0\\\\ 0 & 0 & 1 \\end{bmatrix} = I_3$\n",
    "\n",
    "because \n",
    "\n",
    "$t-t = \\begin{bmatrix} x \\\\ y\\end{bmatrix}-\\begin{bmatrix} x \\\\ y\\end{bmatrix} = \\begin{bmatrix} 0 \\\\ 0 \\end{bmatrix}$\n",
    "\n",
    "$0_{1x2} = \\begin{bmatrix} 0 & 0\\end{bmatrix}$"
   ]
  },
  {
   "cell_type": "markdown",
   "metadata": {},
   "source": [
    "## Excercise 6\n",
    "* 6a)"
   ]
  },
  {
   "cell_type": "code",
   "execution_count": 49,
   "metadata": {},
   "outputs": [
    {
     "data": {
      "text/plain": [
       "array([[ 0.94 ,  0.342,  3.   ],\n",
       "       [-0.342,  0.94 ,  1.   ],\n",
       "       [ 0.   ,  0.   ,  1.   ]])"
      ]
     },
     "execution_count": 49,
     "metadata": {},
     "output_type": "execute_result"
    }
   ],
   "source": [
    "tw= np.array([[3],[1]]) #avstands vektor fra B til W\n",
    "thetaW = -20\n",
    "tt = np.array([[5],[4]]) #avstands vektor fra B til T\n",
    "thetaT = 10\n",
    "\n",
    "BTW = transMat(thetaW,tw).round(3)\n",
    "BTW"
   ]
  },
  {
   "cell_type": "code",
   "execution_count": 50,
   "metadata": {},
   "outputs": [
    {
     "data": {
      "text/plain": [
       "array([[ 0.985, -0.174,  5.   ],\n",
       "       [ 0.174,  0.985,  4.   ],\n",
       "       [ 0.   ,  0.   ,  1.   ]])"
      ]
     },
     "execution_count": 50,
     "metadata": {},
     "output_type": "execute_result"
    }
   ],
   "source": [
    "BTT = transMat(thetaT,tt).round(3)\n",
    "BTT"
   ]
  },
  {
   "cell_type": "markdown",
   "metadata": {},
   "source": [
    "* 6b) Using $^BT_W$, $^BT_T$ determine $^WT_T$"
   ]
  },
  {
   "cell_type": "markdown",
   "metadata": {},
   "source": [
    "To do this I will write down some formulas that I'm going to use:\n",
    "\n",
    "$^AT_B = (^AT_B)^{-1} = ^BT_A$\n",
    "\n",
    "$^BT_A\\bigoplus ^AT_C = ^BT_C$"
   ]
  },
  {
   "cell_type": "markdown",
   "metadata": {},
   "source": [
    "With this formulas I can derive to the correct equation before i compute\n",
    "\n",
    "$(^BT_W)^{-1}\\oplus ^BT_T = ^WT_T$"
   ]
  },
  {
   "cell_type": "code",
   "execution_count": 51,
   "metadata": {},
   "outputs": [
    {
     "data": {
      "text/plain": [
       "array([[ 0.866, -0.5  ,  0.854],\n",
       "       [ 0.5  ,  0.866,  3.502],\n",
       "       [ 0.   ,  0.   ,  1.   ]])"
      ]
     },
     "execution_count": 51,
     "metadata": {},
     "output_type": "execute_result"
    }
   ],
   "source": [
    "BTWinv = np.linalg.inv(BTW)\n",
    "WTT = BTWinv.dot(BTT).round(3)\n",
    "WTT"
   ]
  },
  {
   "cell_type": "markdown",
   "metadata": {},
   "source": [
    "* 6c) Determine the coordinates of the point $p$ in frame ${W}$ denoted $^Wp$"
   ]
  },
  {
   "cell_type": "code",
   "execution_count": 52,
   "metadata": {},
   "outputs": [
    {
     "data": {
      "text/plain": [
       "array([[3],\n",
       "       [2]])"
      ]
     },
     "execution_count": 52,
     "metadata": {},
     "output_type": "execute_result"
    }
   ],
   "source": [
    "Wp = np.array([[3],[2]])\n",
    "Wp"
   ]
  },
  {
   "cell_type": "markdown",
   "metadata": {},
   "source": [
    "* 6d) Find $^Bp$ using $^BT_W$"
   ]
  },
  {
   "cell_type": "code",
   "execution_count": 53,
   "metadata": {},
   "outputs": [
    {
     "data": {
      "text/plain": [
       "array([[6.504],\n",
       "       [1.854],\n",
       "       [1.   ]])"
      ]
     },
     "execution_count": 53,
     "metadata": {},
     "output_type": "execute_result"
    }
   ],
   "source": [
    "Wpex = exVector(Wp)\n",
    "Bp = BTW.dot(Wpex)\n",
    "Bp"
   ]
  },
  {
   "cell_type": "markdown",
   "metadata": {},
   "source": [
    "## Excercise 7"
   ]
  },
  {
   "cell_type": "code",
   "execution_count": null,
   "metadata": {},
   "outputs": [],
   "source": []
  }
 ],
 "metadata": {
  "kernelspec": {
   "display_name": "Python 3",
   "language": "python",
   "name": "python3"
  },
  "language_info": {
   "codemirror_mode": {
    "name": "ipython",
    "version": 3
   },
   "file_extension": ".py",
   "mimetype": "text/x-python",
   "name": "python",
   "nbconvert_exporter": "python",
   "pygments_lexer": "ipython3",
   "version": "3.7.7"
  }
 },
 "nbformat": 4,
 "nbformat_minor": 4
}
