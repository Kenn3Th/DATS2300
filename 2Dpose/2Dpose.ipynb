{
 "cells": [
  {
   "cell_type": "markdown",
   "metadata": {},
   "source": [
    "# 2Dpose exercises\n",
    "* 1.a) find $\\overset{\\rightharpoonup}{p} = \\begin{bmatrix} x\\\\ y \\end{bmatrix}$ from the diagram on exercise pdf."
   ]
  },
  {
   "cell_type": "code",
   "execution_count": 1,
   "metadata": {},
   "outputs": [],
   "source": [
    "import numpy as np"
   ]
  },
  {
   "cell_type": "code",
   "execution_count": 2,
   "metadata": {},
   "outputs": [],
   "source": [
    "Op1 = np.array([[1],[3]])\n",
    "Op2 = np.array([[4],[2]])\n",
    "Ap1 = np.array([[0],[2]])\n",
    "Ap2 = np.array([[3],[1]])\n",
    "Bp1 = np.array([[0],[-1]])\n",
    "Bp2 = np.array([[2],[0]])\n",
    "Cp1 = np.array([[3],[-2]])\n",
    "Cp2 = np.array([[0],[-1]])"
   ]
  },
  {
   "cell_type": "markdown",
   "metadata": {},
   "source": [
    "* 1.b) find the rotation matrix \n",
    "$^{from}T_{to} = \\begin{bmatrix} \n",
    "cos\\theta & -sin\\theta\\\\\n",
    "sin\\theta & cos\\theta\n",
    "\\end{bmatrix}$"
   ]
  },
  {
   "cell_type": "code",
   "execution_count": 3,
   "metadata": {},
   "outputs": [],
   "source": [
    "def transMat(theta):\n",
    "    T = np.array([[np.cos(theta), -np.sin(theta)],[np.sin(theta), np.cos(theta)]])\n",
    "    return T"
   ]
  },
  {
   "cell_type": "code",
   "execution_count": 4,
   "metadata": {},
   "outputs": [
    {
     "data": {
      "text/plain": [
       "array([[ 1., -0.],\n",
       "       [ 0.,  1.]])"
      ]
     },
     "execution_count": 4,
     "metadata": {},
     "output_type": "execute_result"
    }
   ],
   "source": [
    "thetA = 0\n",
    "OTA = transMat(thetA)\n",
    "OTA"
   ]
  },
  {
   "cell_type": "code",
   "execution_count": 5,
   "metadata": {},
   "outputs": [
    {
     "data": {
      "text/plain": [
       "array([[ 0.70710678,  0.70710678],\n",
       "       [-0.70710678,  0.70710678]])"
      ]
     },
     "execution_count": 5,
     "metadata": {},
     "output_type": "execute_result"
    }
   ],
   "source": [
    "thetB = -np.pi/4\n",
    "OTB = transMat(thetB)\n",
    "OTB"
   ]
  },
  {
   "cell_type": "code",
   "execution_count": 6,
   "metadata": {},
   "outputs": [
    {
     "data": {
      "text/plain": [
       "array([[-1.0000000e+00, -1.2246468e-16],\n",
       "       [ 1.2246468e-16, -1.0000000e+00]])"
      ]
     },
     "execution_count": 6,
     "metadata": {},
     "output_type": "execute_result"
    }
   ],
   "source": [
    "thetC = np.pi\n",
    "OTC = transMat(thetC)\n",
    "OTC"
   ]
  },
  {
   "cell_type": "markdown",
   "metadata": {},
   "source": [
    "* 1.c)"
   ]
  },
  {
   "cell_type": "code",
   "execution_count": 7,
   "metadata": {},
   "outputs": [
    {
     "data": {
      "text/plain": [
       "array([[-0.70710678,  0.70710678],\n",
       "       [-0.70710678, -0.70710678]])"
      ]
     },
     "execution_count": 7,
     "metadata": {},
     "output_type": "execute_result"
    }
   ],
   "source": [
    "BthetaC = -(3*np.pi)/4\n",
    "BTC = transMat(BthetaC)\n",
    "BTC"
   ]
  },
  {
   "cell_type": "code",
   "execution_count": 8,
   "metadata": {},
   "outputs": [
    {
     "data": {
      "text/plain": [
       "array([[-1.0000000e+00, -1.2246468e-16],\n",
       "       [ 1.2246468e-16, -1.0000000e+00]])"
      ]
     },
     "execution_count": 8,
     "metadata": {},
     "output_type": "execute_result"
    }
   ],
   "source": [
    "CthetaA = np.pi\n",
    "CTA = transMat(CthetaA)\n",
    "CTA"
   ]
  },
  {
   "cell_type": "code",
   "execution_count": 9,
   "metadata": {},
   "outputs": [
    {
     "data": {
      "text/plain": [
       "array([[ 0.70710678,  0.70710678],\n",
       "       [-0.70710678,  0.70710678]])"
      ]
     },
     "execution_count": 9,
     "metadata": {},
     "output_type": "execute_result"
    }
   ],
   "source": [
    "AthetaB = -np.pi/4\n",
    "ATB = transMat(AthetaB)\n",
    "ATB"
   ]
  },
  {
   "cell_type": "markdown",
   "metadata": {},
   "source": [
    "* 1.d) Use the obtained transform matrices to determin the position vectors\n",
    "\n",
    "$$^{A}\\overset{\\sim}{p} = ^{B}T_A ^{B}\\overset{\\sim}{p} = (^{A}T_B)^{-1} \\text{ } ^{B}\\overset{\\sim}{p} $$"
   ]
  },
  {
   "cell_type": "markdown",
   "metadata": {},
   "source": [
    "OTA = np.append(OTA,np.array([[0,0]]), axis=0) #adds an extra row with zeros\n",
    "Op = np.append(Op1,np.array([[1]]), axis=0) #adds a row with 1\n",
    "OtA = np.array([[1],[1],[1]]) #Vector describing distance from O to A\n",
    "OTA = np.append(OTA,OtA,axis=1) #Extends OTA matrix with AtO vector\n",
    "OTAinv = np.linalg.inv(OTA) #inverts tha OTA matrix\n",
    "Ap = np.delete(OTAinv.dot(Op),2,axis=0) #Removes the last row in this 3x1 matrix\n",
    "Ap"
   ]
  },
  {
   "cell_type": "code",
   "execution_count": 11,
   "metadata": {},
   "outputs": [],
   "source": [
    "'''\n",
    "realizing that I am going to do this many times \n",
    "I made functions to do it for me\n",
    "'''\n",
    "def exTransMat(mat,vector):\n",
    "    #defining variables\n",
    "    row = 0\n",
    "    coloumn = 1\n",
    "    zeroRow = np.array([[0,0]])\n",
    "    Mat = np.append(mat,zeroRow,axis=row)\n",
    "    exMat = np.append(Mat,vector,axis=coloumn)\n",
    "    return exMat\n",
    "\n",
    "def exVector(vec):\n",
    "    row = 0\n",
    "    return np.append(vec,np.array([[1]]), axis=row)"
   ]
  },
  {
   "cell_type": "code",
   "execution_count": 12,
   "metadata": {},
   "outputs": [
    {
     "data": {
      "text/plain": [
       "array([[ 0.        ],\n",
       "       [-1.41421356]])"
      ]
     },
     "execution_count": 12,
     "metadata": {},
     "output_type": "execute_result"
    }
   ],
   "source": [
    "OtB = np.array([[2],[4]]) #2D-vector from origin to B\n",
    "OtBex = exVector(OtB)                \n",
    "OTBex = exTransMat(OTB,OtBex)\n",
    "OTBinv = np.linalg.inv(OTBex)\n",
    "Bp = np.delete(OTBinv.dot(Op),2,axis=0)\n",
    "Bp"
   ]
  },
  {
   "cell_type": "code",
   "execution_count": 13,
   "metadata": {},
   "outputs": [
    {
     "data": {
      "text/plain": [
       "array([[ 3.],\n",
       "       [-2.]])"
      ]
     },
     "execution_count": 13,
     "metadata": {},
     "output_type": "execute_result"
    }
   ],
   "source": [
    "OtC = np.array([[4],[1]]) #2D-vector from origin to C\n",
    "OtCex = exVector(OtC)\n",
    "OTCex = exTransMat(OTC,OtCex)\n",
    "OTCinv = np.linalg.inv(OTCex)\n",
    "Cp = np.delete(OTCinv.dot(Op),2,axis=0)\n",
    "Cp"
   ]
  },
  {
   "cell_type": "code",
   "execution_count": 14,
   "metadata": {},
   "outputs": [
    {
     "data": {
      "text/plain": [
       "array([[3.],\n",
       "       [1.]])"
      ]
     },
     "execution_count": 14,
     "metadata": {},
     "output_type": "execute_result"
    }
   ],
   "source": [
    "Op2ex = exVector(Op2)\n",
    "Ap_2 = np.delete(OTAinv.dot(Op2ex),2,axis=0)\n",
    "Ap_2"
   ]
  },
  {
   "cell_type": "code",
   "execution_count": 15,
   "metadata": {},
   "outputs": [
    {
     "data": {
      "text/plain": [
       "array([[ 2.82842712e+00],\n",
       "       [-8.88178420e-16]])"
      ]
     },
     "execution_count": 15,
     "metadata": {},
     "output_type": "execute_result"
    }
   ],
   "source": [
    "Bp_2 = np.delete(OTBinv.dot(Op2ex),2,axis=0)\n",
    "Bp_2 #e^-16 = 0"
   ]
  },
  {
   "cell_type": "code",
   "execution_count": 16,
   "metadata": {},
   "outputs": [
    {
     "data": {
      "text/plain": [
       "array([[ 4.4408921e-16],\n",
       "       [-1.0000000e+00]])"
      ]
     },
     "execution_count": 16,
     "metadata": {},
     "output_type": "execute_result"
    }
   ],
   "source": [
    "Cp_2 = np.delete(OTCinv.dot(Op2ex),2,axis=0)\n",
    "Cp_2 #e^-16 = 0"
   ]
  },
  {
   "cell_type": "markdown",
   "metadata": {},
   "source": [
    "* 2 Determine if a matrix is a valid rotation matrix\n",
    "\n",
    "$det(R) = 1$ and $R^TR = I$"
   ]
  },
  {
   "cell_type": "code",
   "execution_count": 55,
   "metadata": {},
   "outputs": [],
   "source": [
    "def validRot(R):\n",
    "    detR = np.linalg.det(R)\n",
    "    rtr = np.linalg.inv(R).dot(R)\n",
    "    if (round(detR) == round(sum(rtr[0])) == round(sum(rtr[1])) == 1):\n",
    "        print(\"This is a valid rotation matrix se for your self!\")\n",
    "        print(f\"det(R) = {detR} I rounded it up to be {round(detR)}\")\n",
    "        print(f\"Matrix = \\n{rtr}\\nI rounded first row to be {round(sum(rtr[0]))}\\nand second {round(sum(rtr[0]))}\")\n",
    "    else:\n",
    "        print(\"This matrix is not a valid rotation matrix\")"
   ]
  },
  {
   "cell_type": "code",
   "execution_count": 49,
   "metadata": {},
   "outputs": [
    {
     "name": "stdout",
     "output_type": "stream",
     "text": [
      "This is a valid rotation matrix se for your self!\n",
      "det(R) = 0.9999850399999999 I rounded it up to be 1\n",
      "Matrix = \n",
      "[[ 1.00000000e+00 -2.24732008e-18]\n",
      " [ 1.79944683e-18  1.00000000e+00]]\n",
      "I rounded first row to be 1\n",
      "and second 1\n"
     ]
    }
   ],
   "source": [
    "R = np.array([[0.995, -0.0998],[0.0998, 0.995]])\n",
    "validRot(R)"
   ]
  },
  {
   "cell_type": "code",
   "execution_count": 50,
   "metadata": {},
   "outputs": [
    {
     "name": "stdout",
     "output_type": "stream",
     "text": [
      "This is a valid rotation matrix se for your self!\n",
      "det(R) = 1.0 I rounded it up to be 1\n",
      "Matrix = \n",
      "[[1. 0.]\n",
      " [0. 1.]]\n",
      "I rounded first row to be 1\n",
      "and second 1\n"
     ]
    }
   ],
   "source": [
    "R = np.array([[1,0],[0,1]])\n",
    "validRot(R)"
   ]
  },
  {
   "cell_type": "code",
   "execution_count": 54,
   "metadata": {},
   "outputs": [
    {
     "name": "stdout",
     "output_type": "stream",
     "text": [
      "Matrix: {R} is not a valid rotation matrix\n"
     ]
    }
   ],
   "source": [
    "R = np.array([[1,0],[0,-1]])\n",
    "validRot(R)"
   ]
  },
  {
   "cell_type": "code",
   "execution_count": 56,
   "metadata": {},
   "outputs": [
    {
     "name": "stdout",
     "output_type": "stream",
     "text": [
      "This matrix is not a valid rotation matrix\n"
     ]
    }
   ],
   "source": [
    "R = np.array([[1,1],[0,2]])\n",
    "validRot(R)"
   ]
  },
  {
   "cell_type": "code",
   "execution_count": 57,
   "metadata": {},
   "outputs": [
    {
     "name": "stdout",
     "output_type": "stream",
     "text": [
      "This is a valid rotation matrix se for your self!\n",
      "det(R) = 1.0 I rounded it up to be 1\n",
      "Matrix = \n",
      "[[ 1.00000000e+00 -1.01465364e-17]\n",
      " [-1.01465364e-17  1.00000000e+00]]\n",
      "I rounded first row to be 1\n",
      "and second 1\n"
     ]
    }
   ],
   "source": [
    "R = np.array([[np.sqrt(2)/2,-np.sqrt(2)/2],[np.sqrt(2)/2,np.sqrt(2)/2]])\n",
    "validRot(R)"
   ]
  },
  {
   "cell_type": "code",
   "execution_count": 58,
   "metadata": {},
   "outputs": [
    {
     "name": "stdout",
     "output_type": "stream",
     "text": [
      "This is a valid rotation matrix se for your self!\n",
      "det(R) = 0.999956 I rounded it up to be 1\n",
      "Matrix = \n",
      "[[1.00000000e+00 5.55111512e-17]\n",
      " [2.64234839e-17 1.00000000e+00]]\n",
      "I rounded first row to be 1\n",
      "and second 1\n"
     ]
    }
   ],
   "source": [
    "R = np.array([[-0.5,-0.866],[0.866,-0.5]])\n",
    "validRot(R)"
   ]
  },
  {
   "cell_type": "code",
   "execution_count": 59,
   "metadata": {},
   "outputs": [
    {
     "name": "stdout",
     "output_type": "stream",
     "text": [
      "This matrix is not a valid rotation matrix\n"
     ]
    }
   ],
   "source": [
    "R = np.array([[-0.5,-0.866],[0.866,0.5]])\n",
    "validRot(R)"
   ]
  },
  {
   "cell_type": "markdown",
   "metadata": {},
   "source": [
    "## Consider the rotation matrix \n",
    "$R(\\theta) = \\begin{bmatrix} \n",
    "cos(\\theta) &  -sin(\\theta)\\\\\n",
    "sin(\\theta) & cos(\\theta) \\end{bmatrix}$"
   ]
  },
  {
   "cell_type": "markdown",
   "metadata": {},
   "source": [
    "* 3.a) Show that $R(0) = I_2$\n",
    "\n",
    "$R(0) = \\begin{bmatrix} \n",
    "cos(0) &  -sin(0)\\\\\n",
    "sin(0) & cos(0) \\end{bmatrix} =\n",
    "\\begin{bmatrix} \n",
    "1 &  0\\\\\n",
    "0 & 1 \\end{bmatrix} = I_2$"
   ]
  },
  {
   "cell_type": "markdown",
   "metadata": {},
   "source": [
    "* 3.b) Show that for any angle $\\theta$ $det(R(\\theta)) = +1$"
   ]
  },
  {
   "cell_type": "markdown",
   "metadata": {},
   "source": [
    "If $A = \\begin{bmatrix}a & b\\\\ c & d \\end{bmatrix}$\n",
    "then $det(A) = \\begin{vmatrix}a & b\\\\ c & d  \\end{vmatrix} = ad - bc $\n",
    "\n",
    "And we know from trigonometry that $cos^2 + sin^2 = 1$\n",
    "\n",
    "Therfore $det(R) = \\begin{vmatrix}cos(\\theta) & -sin(\\theta)\\\\ sin(\\theta) & cos(\\theta)  \\end{vmatrix} \n",
    "= cos^2(\\theta) + sin^2(\\theta) = 1 $"
   ]
  },
  {
   "cell_type": "markdown",
   "metadata": {},
   "source": [
    "* 3.c) Show that $R^TR = I_2$"
   ]
  },
  {
   "cell_type": "markdown",
   "metadata": {},
   "source": [
    "$R^T = \\begin{bmatrix} cos(\\theta) & sin(\\theta)\\\\-sin(\\theta) & cos(\\theta)\\end{bmatrix}$\n",
    "\n",
    "$R^TR = \\begin{bmatrix} cos(\\theta) & sin(\\theta)\\\\-sin(\\theta) & cos(\\theta)\\end{bmatrix}\n",
    "\\begin{bmatrix} cos(\\theta) & -sin(\\theta)\\\\sin(\\theta) & cos(\\theta)\\end{bmatrix} = \n",
    "\\begin{bmatrix} cos^2(\\theta) + sin^2(\\theta) & -cos(\\theta)sin(\\theta) + cos(\\theta)sin(\\theta) \\\\ -cos(\\theta)sin(\\theta) + cos(\\theta)sin(\\theta) & sin^2(\\theta)+cos^2(\\theta)\\end{bmatrix} = \\begin{bmatrix} 1 & 0\\\\ 0 & 1\\end{bmatrix} = I_2$"
   ]
  },
  {
   "cell_type": "markdown",
   "metadata": {},
   "source": [
    "* 3.d) Show that $R(-\\theta) = R(\\theta)^T$"
   ]
  },
  {
   "cell_type": "code",
   "execution_count": null,
   "metadata": {},
   "outputs": [],
   "source": []
  }
 ],
 "metadata": {
  "kernelspec": {
   "display_name": "Python 3",
   "language": "python",
   "name": "python3"
  },
  "language_info": {
   "codemirror_mode": {
    "name": "ipython",
    "version": 3
   },
   "file_extension": ".py",
   "mimetype": "text/x-python",
   "name": "python",
   "nbconvert_exporter": "python",
   "pygments_lexer": "ipython3",
   "version": "3.7.7"
  }
 },
 "nbformat": 4,
 "nbformat_minor": 4
}
