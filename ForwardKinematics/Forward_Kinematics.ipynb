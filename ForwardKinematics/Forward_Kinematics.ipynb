{
 "cells": [
  {
   "cell_type": "markdown",
   "metadata": {},
   "source": [
    "# Forward Kinematics"
   ]
  },
  {
   "cell_type": "code",
   "execution_count": 3,
   "metadata": {},
   "outputs": [],
   "source": [
    "#Libraries that I am going to use\n",
    "import numpy as np"
   ]
  },
  {
   "cell_type": "code",
   "execution_count": 2,
   "metadata": {},
   "outputs": [
    {
     "data": {
      "text/plain": [
       "992.8"
      ]
     },
     "execution_count": 2,
     "metadata": {},
     "output_type": "execute_result"
    }
   ],
   "source": [
    "#unit for l is [mm]\n",
    "l0 = 275.5\n",
    "l1 = 410\n",
    "l2 = 207.3\n",
    "l3 = 100 #this is at home pisition, it is usually a variable\n",
    "l0+l1+l2+l3"
   ]
  },
  {
   "cell_type": "code",
   "execution_count": 11,
   "metadata": {},
   "outputs": [],
   "source": [
    "def DenHartA(DH):\n",
    "    '''\n",
    "    This function makes matrix {j-1}^A_j from \n",
    "    Denavit-Hartenberg (DH) parameters\n",
    "\n",
    "    DH should be as follows:\n",
    "    [theta, d, a, alfa]\n",
    "\n",
    "    theta = rotation around z axis\n",
    "    d = moved in z direction\n",
    "    a = moved in x direction\n",
    "    alfa = rotation around x axis\n",
    "    '''\n",
    "    tta = DH[0]\n",
    "    d = DH[1]\n",
    "    a = DH[2]\n",
    "    alfa = DH[3]\n",
    "    A = np.array([\n",
    "        [np.cos(tta), -np.sin(tta)*np.cos(alfa), np.sin(tta)*np.sin(alfa), a*np.cos(tta)],\n",
    "        [np.sin(tta), np.cos(tta)*np.cos(alfa), -np.cos(tta)*np.sin(alfa), a*np.sin(tta)],\n",
    "        [0, np.sin(alfa), np.cos(alfa), d],\n",
    "        [0, 0, 0, 1]\n",
    "    ])\n",
    "    return A\n",
    "\n",
    "def forward_kinematics(DH , n = None):\n",
    "    \"\"\"\n",
    "    This function takes in the Denavit-Hartenberg parameter table\n",
    "    and returns the position of the end effector with forward kinematics.\n",
    "    Usually the links of the robot is the same as the lengt of DH. If not \n",
    "    you need to specify how many links with n = nr.links\n",
    "    \"\"\"\n",
    "    if n is not None:\n",
    "        links = n\n",
    "    else :\n",
    "        links = len(DH) #Find how many links there are, (how many DOF)\n",
    "\n",
    "    A = np.zeros((links,4,4)) #Makes as many A matrix as there are links\n",
    "    for i in range(links):\n",
    "        A[i] = DenHartA(DH[i]) #Makes the A matrix of the DH parameters\n",
    "    \n",
    "    T = np.zeros(((links-1),4,4)) \n",
    "    for i in range(links-1):\n",
    "        if i<1 :\n",
    "            T[i] = A[i].dot(A[i+1])\n",
    "        else :\n",
    "            T[i] = T[i-1].dot(A[i+1])\n",
    "            \n",
    "    return T[-1].round(5) #T[-1] is when all the A matrixes are dotted together\n",
    "\n",
    "def KINOVA(Tta_vec, n = None):\n",
    "    \"\"\"\n",
    "    Here are the DH parameteres for this KINOVA robot arm.\n",
    "    It takes a theta vector and completes the DH table and \n",
    "    return the position of the end effector usin forward kinematics\n",
    "    \"\"\"\n",
    "    pihalf = np.pi/2\n",
    "    alpha = pihalf\n",
    "    DH = np.array([\n",
    "        [Tta_vec[0]+pihalf, 0.2755, 0, alpha],\n",
    "        [Tta_vec[1]+pihalf, 0, 0.410, 0],\n",
    "        [Tta_vec[2]-pihalf, -0.0098, 0, -alpha],\n",
    "        [Tta_vec[3]-pihalf, 0.3073, 0,0]\n",
    "    ])\n",
    "    \n",
    "    if n is not None:\n",
    "        return forward_kinematics(DH,n)\n",
    "    else:\n",
    "        return forward_kinematics(DH)"
   ]
  },
  {
   "cell_type": "code",
   "execution_count": 12,
   "metadata": {},
   "outputs": [
    {
     "data": {
      "text/plain": [
       "array([[ 1.    ,  0.    ,  0.    , -0.0098],\n",
       "       [ 0.    ,  1.    , -0.    ,  0.    ],\n",
       "       [ 0.    ,  0.    ,  1.    ,  0.9928],\n",
       "       [ 0.    ,  0.    ,  0.    ,  1.    ]])"
      ]
     },
     "execution_count": 12,
     "metadata": {},
     "output_type": "execute_result"
    }
   ],
   "source": [
    "KINOVA(np.zeros(4))"
   ]
  },
  {
   "cell_type": "code",
   "execution_count": 5,
   "metadata": {},
   "outputs": [
    {
     "data": {
      "text/plain": [
       "array([[ 0.    , -0.    ,  1.    ,  0.3073],\n",
       "       [ 1.    , -0.    , -0.    , -0.0098],\n",
       "       [ 0.    ,  1.    ,  0.    ,  0.6855],\n",
       "       [ 0.    ,  0.    ,  0.    ,  1.    ]])"
      ]
     },
     "execution_count": 5,
     "metadata": {},
     "output_type": "execute_result"
    }
   ],
   "source": [
    "q = [np.pi/2,0,np.pi/2,0]\n",
    "KINOVA(q)"
   ]
  },
  {
   "cell_type": "code",
   "execution_count": 6,
   "metadata": {},
   "outputs": [
    {
     "data": {
      "text/plain": [
       "array([[-0.     , -1.     ,  0.     ,  0.28991],\n",
       "       [-1.     ,  0.     ,  0.     , -0.0098 ],\n",
       "       [-0.     , -0.     , -1.     , -0.32171],\n",
       "       [ 0.     ,  0.     ,  0.     ,  1.     ]])"
      ]
     },
     "execution_count": 6,
     "metadata": {},
     "output_type": "execute_result"
    }
   ],
   "source": [
    "q = np.array([np.pi/2,3*np.pi/4,np.pi/4,np.pi])\n",
    "KINOVA(q)"
   ]
  },
  {
   "cell_type": "code",
   "execution_count": 7,
   "metadata": {},
   "outputs": [],
   "source": [
    "def DaVinci(Tta_vec, n = None):\n",
    "    \"\"\"\n",
    "    This function completes the DH for Davinci surgical robot \n",
    "    with the the Theta vector and return the end position of \n",
    "    the end effector with forward kinematics\n",
    "    \"\"\"\n",
    "    d = [0.45, 0.02, 0.4]\n",
    "    a = [0.12, 0.30, 0.25]\n",
    "    DH = np.array([\n",
    "        [Tta_vec[0], 0, a[0], 0], #Link 1\n",
    "        [Tta_vec[1]+np.pi/2, d[0], 0, np.pi/2], #Link 2\n",
    "        [Tta_vec[2]+np.pi/2, 0, a[1], np.pi], #Link 3\n",
    "        [Tta_vec[3]+np.pi, 0, a[2], 0], #Link 4\n",
    "        [Tta_vec[4]+np.pi/2, d[1], 0, -np.pi/2], #Link 5\n",
    "        [Tta_vec[5]+np.pi/2, d[2], 0, 0] #Link 6\n",
    "    ])\n",
    "    \n",
    "    if n is not None:\n",
    "        return forward_kinematics(DH,n)\n",
    "    else:\n",
    "        return forward_kinematics(DH)"
   ]
  },
  {
   "cell_type": "code",
   "execution_count": 8,
   "metadata": {},
   "outputs": [
    {
     "data": {
      "text/plain": [
       "array([[ 1. ,  0. , -0. ,  0.1],\n",
       "       [-0. ,  1. , -0. , -0. ],\n",
       "       [ 0. ,  0. ,  1. ,  0.9],\n",
       "       [ 0. ,  0. ,  0. ,  1. ]])"
      ]
     },
     "execution_count": 8,
     "metadata": {},
     "output_type": "execute_result"
    }
   ],
   "source": [
    "q = np.zeros(6)\n",
    "DaVinci(q)"
   ]
  },
  {
   "cell_type": "code",
   "execution_count": 9,
   "metadata": {},
   "outputs": [
    {
     "data": {
      "text/plain": [
       "array([[ 0.     , -0.     , -1.     , -0.22322],\n",
       "       [ 1.     ,  0.     ,  0.     ,  0.1    ],\n",
       "       [ 0.     , -1.     ,  0.     ,  0.57322],\n",
       "       [ 0.     ,  0.     ,  0.     ,  1.     ]])"
      ]
     },
     "execution_count": 9,
     "metadata": {},
     "output_type": "execute_result"
    }
   ],
   "source": [
    "q = np.array([np.pi/2, 0, 0, np.pi/4, np.pi/4, 0])\n",
    "DaVinci(q)"
   ]
  },
  {
   "cell_type": "code",
   "execution_count": 10,
   "metadata": {},
   "outputs": [
    {
     "data": {
      "text/plain": [
       "array([[-0.15643,  0.98769,  0.     ,  0.04036],\n",
       "       [-0.98769, -0.15643,  0.     ,  0.1246 ],\n",
       "       [ 0.     , -0.     ,  1.     ,  0.88536],\n",
       "       [ 0.     ,  0.     ,  0.     ,  1.     ]])"
      ]
     },
     "execution_count": 10,
     "metadata": {},
     "output_type": "execute_result"
    }
   ],
   "source": [
    "q = np.array([np.pi/2, np.pi/5, np.pi/4, 0, np.pi/4, 3*np.pi/4])\n",
    "DaVinci(q)"
   ]
  },
  {
   "cell_type": "code",
   "execution_count": 11,
   "metadata": {},
   "outputs": [],
   "source": [
    "def forward_kinematics_daniel(Tta_vec):\n",
    "    d = [0.45, 0.02, 0.4]\n",
    "    a = [0.12, 0.30, 0.25]\n",
    "    DH = np.array([\n",
    "        [Tta_vec[0], 0, a[0], 0], #Link 1:\n",
    "        [Tta_vec[1]+np.pi/2, d[0], 0, np.pi/2], #Link 2\n",
    "        [Tta_vec[2]+np.pi/2, 0, a[1], np.pi], #Link 3\n",
    "        [Tta_vec[3], 0, -a[2], 0], #Link 4\n",
    "        [Tta_vec[4]+np.pi/2, d[1], 0, np.pi/2], #Link 5\n",
    "        [Tta_vec[5]+np.pi/2, d[2], 0, 0] #Link 6\n",
    "    ])\n",
    "    \n",
    "    A = np.zeros((6,4,4))\n",
    "    for i in range(6):\n",
    "        A[i] = DenHartA(DH[i])\n",
    "   \n",
    "    T = A[0].dot(A[1]).dot(A[2]).dot(A[3]).dot(A[4]).dot(A[5])\n",
    "    \n",
    "    return T.round(5)"
   ]
  },
  {
   "cell_type": "code",
   "execution_count": 12,
   "metadata": {},
   "outputs": [
    {
     "data": {
      "text/plain": [
       "array([[-1. , -0. , -0. ,  0.1],\n",
       "       [ 0. , -1. ,  0. ,  0. ],\n",
       "       [-0. , -0. ,  1. ,  0.9],\n",
       "       [ 0. ,  0. ,  0. ,  1. ]])"
      ]
     },
     "execution_count": 12,
     "metadata": {},
     "output_type": "execute_result"
    }
   ],
   "source": [
    "q = [0,0,0,0,0,0]\n",
    "forward_kinematics_daniel(q)"
   ]
  },
  {
   "cell_type": "code",
   "execution_count": 13,
   "metadata": {},
   "outputs": [
    {
     "data": {
      "text/plain": [
       "array([[ 1. ,  0. , -0. ,  0.1],\n",
       "       [-0. ,  1. , -0. , -0. ],\n",
       "       [ 0. ,  0. ,  1. ,  0.9],\n",
       "       [ 0. ,  0. ,  0. ,  1. ]])"
      ]
     },
     "execution_count": 13,
     "metadata": {},
     "output_type": "execute_result"
    }
   ],
   "source": [
    "DaVinci(q)"
   ]
  },
  {
   "cell_type": "code",
   "execution_count": 14,
   "metadata": {},
   "outputs": [
    {
     "data": {
      "text/plain": [
       "array([[ 0.     , -0.     , -1.     , -0.22322],\n",
       "       [ 1.     ,  0.     ,  0.     ,  0.1    ],\n",
       "       [ 0.     , -1.     ,  0.     ,  0.57322],\n",
       "       [ 0.     ,  0.     ,  0.     ,  1.     ]])"
      ]
     },
     "execution_count": 14,
     "metadata": {},
     "output_type": "execute_result"
    }
   ],
   "source": [
    "q = np.array([np.pi/2, 0, 0, np.pi/4, np.pi/4, 0])\n",
    "DaVinci(q)"
   ]
  },
  {
   "cell_type": "code",
   "execution_count": 15,
   "metadata": {},
   "outputs": [
    {
     "data": {
      "text/plain": [
       "array([[-0.     ,  0.     , -1.     , -0.22322],\n",
       "       [-1.     , -0.     ,  0.     ,  0.1    ],\n",
       "       [-0.     ,  1.     ,  0.     ,  0.57322],\n",
       "       [ 0.     ,  0.     ,  0.     ,  1.     ]])"
      ]
     },
     "execution_count": 15,
     "metadata": {},
     "output_type": "execute_result"
    }
   ],
   "source": [
    "forward_kinematics_daniel(q)"
   ]
  },
  {
   "cell_type": "code",
   "execution_count": 16,
   "metadata": {},
   "outputs": [
    {
     "data": {
      "text/plain": [
       "array([[-0.15643,  0.98769,  0.     ,  0.04036],\n",
       "       [-0.98769, -0.15643,  0.     ,  0.1246 ],\n",
       "       [ 0.     , -0.     ,  1.     ,  0.88536],\n",
       "       [ 0.     ,  0.     ,  0.     ,  1.     ]])"
      ]
     },
     "execution_count": 16,
     "metadata": {},
     "output_type": "execute_result"
    }
   ],
   "source": [
    "q = np.array([np.pi/2, np.pi/5, np.pi/4, 0, np.pi/4, 3*np.pi/4])\n",
    "DaVinci(q)"
   ]
  },
  {
   "cell_type": "code",
   "execution_count": 17,
   "metadata": {},
   "outputs": [
    {
     "data": {
      "text/plain": [
       "array([[ 0.15643, -0.98769, -0.     ,  0.04036],\n",
       "       [ 0.98769,  0.15643, -0.     ,  0.1246 ],\n",
       "       [ 0.     ,  0.     ,  1.     ,  0.88536],\n",
       "       [ 0.     ,  0.     ,  0.     ,  1.     ]])"
      ]
     },
     "execution_count": 17,
     "metadata": {},
     "output_type": "execute_result"
    }
   ],
   "source": [
    "forward_kinematics_daniel(q)"
   ]
  },
  {
   "cell_type": "code",
   "execution_count": 18,
   "metadata": {},
   "outputs": [],
   "source": [
    "def UR3(Tta_vec, n = None):\n",
    "    \"\"\"\n",
    "    This function completes the DH for UR3 with the the Theta vector\n",
    "    and return the end position of the end effector with forward kinematics\n",
    "    \"\"\"\n",
    "    DH = np.array([\n",
    "        [Tta_vec[0] + np.pi/2, 0.892, 0, np.pi/2],\n",
    "        [Tta_vec[1] + np.pi/2, 0, 4.25, 0],\n",
    "        [Tta_vec[2], 0, 3.92, np.pi],\n",
    "        [Tta_vec[3] + np.pi/2, -1.093, 0, - np.pi/2],\n",
    "        [Tta_vec[4], -0.9475, 0, np.pi/2],\n",
    "        [Tta_vec[5], -0.825, 0, 0]\n",
    "    ])\n",
    "                \n",
    "    if n is not None:\n",
    "        return forward_kinematics(DH,n)\n",
    "    else:\n",
    "        return forward_kinematics(DH)"
   ]
  },
  {
   "cell_type": "code",
   "execution_count": 19,
   "metadata": {},
   "outputs": [
    {
     "data": {
      "text/plain": [
       "array([[ 0.    ,  0.    , -1.    ,  1.918 ],\n",
       "       [ 1.    ,  0.    ,  0.    ,  0.    ],\n",
       "       [ 0.    , -1.    , -0.    , 10.0095],\n",
       "       [ 0.    ,  0.    ,  0.    ,  1.    ]])"
      ]
     },
     "execution_count": 19,
     "metadata": {},
     "output_type": "execute_result"
    }
   ],
   "source": [
    "q = np.zeros(6)\n",
    "UR3(q)"
   ]
  },
  {
   "cell_type": "code",
   "execution_count": 20,
   "metadata": {},
   "outputs": [
    {
     "data": {
      "text/plain": [
       "(10.009500000000001, 1.9180000000000001)"
      ]
     },
     "execution_count": 20,
     "metadata": {},
     "output_type": "execute_result"
    }
   ],
   "source": [
    "z = (89.2+425+392+94.75)/100\n",
    "x = (109.3 + 82.5)/100\n",
    "z, x"
   ]
  },
  {
   "cell_type": "code",
   "execution_count": 21,
   "metadata": {},
   "outputs": [
    {
     "data": {
      "text/plain": [
       "array([[-0.5    ,  0.70711, -0.5    , -0.25748],\n",
       "       [ 0.70711, -0.     , -0.70711,  1.67636],\n",
       "       [-0.5    , -0.70711, -0.5    , 10.14448],\n",
       "       [ 0.     ,  0.     ,  0.     ,  1.     ]])"
      ]
     },
     "execution_count": 21,
     "metadata": {},
     "output_type": "execute_result"
    }
   ],
   "source": [
    "q = np.array([np.pi/2, 0, 0, np.pi/4, np.pi/4, 0])\n",
    "UR3(q)"
   ]
  },
  {
   "cell_type": "code",
   "execution_count": 22,
   "metadata": {},
   "outputs": [
    {
     "data": {
      "text/plain": [
       "array([[-0.62018,  0.77662, -0.11062,  7.39692],\n",
       "       [-0.5    , -0.5    , -0.70711,  1.67636],\n",
       "       [-0.60446, -0.38323,  0.6984 ,  4.51559],\n",
       "       [ 0.     ,  0.     ,  0.     ,  1.     ]])"
      ]
     },
     "execution_count": 22,
     "metadata": {},
     "output_type": "execute_result"
    }
   ],
   "source": [
    "q = np.array([np.pi/2, np.pi/5, np.pi/4, 0, np.pi/4, 3*np.pi/4])\n",
    "UR3(q)"
   ]
  },
  {
   "cell_type": "code",
   "execution_count": null,
   "metadata": {},
   "outputs": [],
   "source": []
  }
 ],
 "metadata": {
  "kernelspec": {
   "display_name": "Python 3",
   "language": "python",
   "name": "python3"
  },
  "language_info": {
   "codemirror_mode": {
    "name": "ipython",
    "version": 3
   },
   "file_extension": ".py",
   "mimetype": "text/x-python",
   "name": "python",
   "nbconvert_exporter": "python",
   "pygments_lexer": "ipython3",
   "version": "3.7.7"
  }
 },
 "nbformat": 4,
 "nbformat_minor": 4
}
