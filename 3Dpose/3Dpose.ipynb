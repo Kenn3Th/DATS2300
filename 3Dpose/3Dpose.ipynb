{
 "cells": [
  {
   "cell_type": "code",
   "execution_count": 1,
   "metadata": {},
   "outputs": [],
   "source": [
    "import numpy as np\n",
    "import matplotlib.pyplot as plt"
   ]
  },
  {
   "cell_type": "markdown",
   "metadata": {},
   "source": [
    "### Exercise 1b) find $^OT_A$, $^OT_B$, $^OT_C$,"
   ]
  },
  {
   "cell_type": "code",
   "execution_count": 2,
   "metadata": {},
   "outputs": [],
   "source": [
    "def rotMat(Tta,ax):\n",
    "    if ax=='x':\n",
    "        R = np.array([\n",
    "            [1, 0, 0],\n",
    "            [0, np.cos(Tta), -np.sin(Tta)],\n",
    "            [0, np.sin(Tta), np.cos(Tta)]\n",
    "        ])\n",
    "    elif ax=='y':\n",
    "        R = np.array([\n",
    "            [np.cos(Tta), 0, -np.sin(Tta)],\n",
    "            [0, 1, 0],\n",
    "            [np.sin(Tta), 0, np.cos(Tta)]\n",
    "        ])\n",
    "    else:\n",
    "        R = np.array([\n",
    "            [np.cos(Tta), -np.sin(Tta), 0],\n",
    "            [np.sin(Tta), np.cos(Tta), 0],\n",
    "            [0, 0, 1]\n",
    "        ])\n",
    "    return R\n",
    "\n",
    "def transMat(R,vec):\n",
    "    row = 0\n",
    "    coloumn = 1\n",
    "    t = np.append(vec,np.array([[1]]), axis=row)\n",
    "    zeroRow = np.zeros([1,3])\n",
    "    exR = np.append(R, zeroRow, axis=row)\n",
    "    T = np.append(exR,t, axis=coloumn)\n",
    "    return T.round(3)\n",
    "    "
   ]
  },
  {
   "cell_type": "code",
   "execution_count": 3,
   "metadata": {},
   "outputs": [
    {
     "data": {
      "text/plain": [
       "array([[ 1. ,  0. ,  0. , -2. ],\n",
       "       [ 0. ,  0. , -1. ,  2. ],\n",
       "       [ 0. ,  1. ,  0. ,  0.5],\n",
       "       [ 0. ,  0. ,  0. ,  1. ]])"
      ]
     },
     "execution_count": 3,
     "metadata": {},
     "output_type": "execute_result"
    }
   ],
   "source": [
    "#OTA rotates around x 90 degrees\n",
    "vec = np.array([-2,2,0.5])\n",
    "vec.shape = 3,1\n",
    "theta = np.pi/2\n",
    "R = rotMat(theta, 'x')\n",
    "OTA = transMat(R, vec)\n",
    "OTA"
   ]
  },
  {
   "cell_type": "code",
   "execution_count": 4,
   "metadata": {},
   "outputs": [
    {
     "data": {
      "text/plain": [
       "array([[ 0.707, -0.707,  0.   , -1.   ],\n",
       "       [ 0.707,  0.707,  0.   , -2.   ],\n",
       "       [ 0.   ,  0.   ,  1.   , -2.   ],\n",
       "       [ 0.   ,  0.   ,  0.   ,  1.   ]])"
      ]
     },
     "execution_count": 4,
     "metadata": {},
     "output_type": "execute_result"
    }
   ],
   "source": [
    "#OTB rotates around z 45 degrees\n",
    "vec = np.array([-1,-2,-2])\n",
    "vec.shape = 3,1\n",
    "theta = np.pi/4\n",
    "R = rotMat(theta, 'z')\n",
    "OTB = transMat(R, vec)\n",
    "OTB"
   ]
  },
  {
   "cell_type": "code",
   "execution_count": 5,
   "metadata": {},
   "outputs": [
    {
     "data": {
      "text/plain": [
       "array([[-1., -0.,  0.,  1.],\n",
       "       [-0.,  1., -0., -2.],\n",
       "       [ 0., -0., -1.,  2.],\n",
       "       [ 0.,  0.,  0.,  1.]])"
      ]
     },
     "execution_count": 5,
     "metadata": {},
     "output_type": "execute_result"
    }
   ],
   "source": [
    "#OTC rotates around x 180 degrees then around z 180 degrees\n",
    "vec = np.array([1,-2,2])\n",
    "vec.shape = 3,1\n",
    "vec0 = np.zeros([3,1])\n",
    "theta = np.pi\n",
    "#Rx = rotMat(theta,'x')\n",
    "#Rz = rotMat(theta,'z')\n",
    "R = rotMat(theta,'x').dot(rotMat(theta,'z')) #Rx.dot(Rz)\n",
    "OTC = transMat(R,vec)\n",
    "OTC"
   ]
  },
  {
   "cell_type": "code",
   "execution_count": 6,
   "metadata": {},
   "outputs": [
    {
     "data": {
      "text/plain": [
       "array([[-0.707,  0.707,  0.   ,  1.   ],\n",
       "       [ 0.707,  0.707,  0.   , -2.   ],\n",
       "       [ 0.   ,  0.   , -1.   ,  2.   ],\n",
       "       [ 0.   ,  0.   ,  0.   ,  1.   ]])"
      ]
     },
     "execution_count": 6,
     "metadata": {},
     "output_type": "execute_result"
    }
   ],
   "source": [
    "#BTC rotates 3pi/4 around z and pi around x\n",
    "Tta = 3*np.pi/4\n",
    "phi = np.pi\n",
    "Rz = rotMat(Tta,'z')\n",
    "Rx = rotMat(phi,'x')\n",
    "R = Rz.dot(Rx)\n",
    "BTC = transMat(R,vec)\n",
    "BTC"
   ]
  },
  {
   "cell_type": "code",
   "execution_count": 7,
   "metadata": {},
   "outputs": [
    {
     "data": {
      "text/plain": [
       "array([[-1. , -0. ,  0. ,  3. ],\n",
       "       [ 0. , -0. , -1. ,  4. ],\n",
       "       [ 0. , -1. ,  0. ,  1.5],\n",
       "       [ 0. ,  0. ,  0. ,  1. ]])"
      ]
     },
     "execution_count": 7,
     "metadata": {},
     "output_type": "execute_result"
    }
   ],
   "source": [
    "#CTA rotates pi/2 around x and pi around z\n",
    "Tta = np.pi/2\n",
    "psi = np.pi\n",
    "Rx = rotMat(Tta, 'x')\n",
    "Rz = rotMat(psi, 'z')\n",
    "R = Rx.dot(Rz)\n",
    "vec = np.array([3,4,1.5])\n",
    "vec.shape = 3,1\n",
    "CTA = transMat(R,vec)\n",
    "CTA"
   ]
  },
  {
   "cell_type": "code",
   "execution_count": 8,
   "metadata": {},
   "outputs": [
    {
     "data": {
      "text/plain": [
       "array([[ 0.707,  0.707, -0.   ,  1.   ],\n",
       "       [ 0.   ,  0.   ,  1.   , -2.5  ],\n",
       "       [ 0.707, -0.707,  0.   ,  4.   ],\n",
       "       [ 0.   ,  0.   ,  0.   ,  1.   ]])"
      ]
     },
     "execution_count": 8,
     "metadata": {},
     "output_type": "execute_result"
    }
   ],
   "source": [
    "#ATB rotates pi/4 around y and -pi/2 around x\n",
    "Tta = np.pi/4\n",
    "psi = -np.pi/2\n",
    "Ry = rotMat(Tta,'y')\n",
    "Rx = rotMat(psi,'x')\n",
    "R = Ry.dot(Rx)\n",
    "vec = np.array([1, -2.5, 4])\n",
    "vec.shape = 3,1\n",
    "ATB = transMat(R,vec)\n",
    "ATB"
   ]
  },
  {
   "cell_type": "code",
   "execution_count": 9,
   "metadata": {},
   "outputs": [],
   "source": [
    "#Get the homogeneus vector\n",
    "def homoVec(vec):\n",
    "    row = 0\n",
    "    t = np.append(vec,np.array([[1]]), axis=row)\n",
    "    return t"
   ]
  },
  {
   "cell_type": "code",
   "execution_count": 10,
   "metadata": {},
   "outputs": [
    {
     "data": {
      "text/plain": [
       "array([[1. ],\n",
       "       [1.5],\n",
       "       [1. ]])"
      ]
     },
     "execution_count": 10,
     "metadata": {},
     "output_type": "execute_result"
    }
   ],
   "source": [
    "#Ap1 = inv(OTA)Op\n",
    "Op = np.array([-1,1,2])\n",
    "Op.shape = 3,1\n",
    "Op1 = homoVec(Op)\n",
    "OTAinv = np.linalg.inv(OTA)\n",
    "Ap1 = OTAinv.dot(Op1)\n",
    "np.delete(Ap1,3,axis=0)"
   ]
  },
  {
   "cell_type": "code",
   "execution_count": 11,
   "metadata": {},
   "outputs": [
    {
     "data": {
      "text/plain": [
       "array([[2.12164074],\n",
       "       [2.12164074],\n",
       "       [4.        ]])"
      ]
     },
     "execution_count": 11,
     "metadata": {},
     "output_type": "execute_result"
    }
   ],
   "source": [
    "#Bp1 = inv(OTB)Op\n",
    "OTBinv = np.linalg.inv(OTB)\n",
    "Bp1 = OTBinv.dot(Op1)\n",
    "np.delete(Bp1,3,axis=0)"
   ]
  },
  {
   "cell_type": "code",
   "execution_count": 12,
   "metadata": {},
   "outputs": [
    {
     "data": {
      "text/plain": [
       "array([[2.],\n",
       "       [3.],\n",
       "       [0.]])"
      ]
     },
     "execution_count": 12,
     "metadata": {},
     "output_type": "execute_result"
    }
   ],
   "source": [
    "#Cp1 = inv(OTC)Op\n",
    "OTCinv = np.linalg.inv(OTC)\n",
    "Cp1 = OTCinv.dot(Op1)\n",
    "np.delete(Cp1,3,axis=0)"
   ]
  },
  {
   "cell_type": "code",
   "execution_count": 13,
   "metadata": {},
   "outputs": [
    {
     "data": {
      "text/plain": [
       "array([[ 4. ],\n",
       "       [-1.5],\n",
       "       [ 3. ]])"
      ]
     },
     "execution_count": 13,
     "metadata": {},
     "output_type": "execute_result"
    }
   ],
   "source": [
    "#Ap2 = inv(OTA)Op2\n",
    "Op_2 = np.array([2,-1,-1])\n",
    "Op_2.shape = 3,1\n",
    "Op2 = homoVec(Op_2)\n",
    "Ap2 = OTAinv.dot(Op2)\n",
    "np.delete(Ap2,3,axis=0)"
   ]
  },
  {
   "cell_type": "code",
   "execution_count": 14,
   "metadata": {},
   "outputs": [
    {
     "data": {
      "text/plain": [
       "array([[ 2.82885431],\n",
       "       [-1.41442716],\n",
       "       [ 1.        ]])"
      ]
     },
     "execution_count": 14,
     "metadata": {},
     "output_type": "execute_result"
    }
   ],
   "source": [
    "#Bp2 = inv(BTA)Op2\n",
    "Bp2 = OTBinv.dot(Op2)\n",
    "np.delete(Bp2,3,axis=0)\n",
    "# 2.8288.. = 2sqrt(2)\n",
    "# 1.4144.. = sqrt(2)"
   ]
  },
  {
   "cell_type": "code",
   "execution_count": 15,
   "metadata": {},
   "outputs": [
    {
     "data": {
      "text/plain": [
       "array([[-1.],\n",
       "       [ 1.],\n",
       "       [ 3.]])"
      ]
     },
     "execution_count": 15,
     "metadata": {},
     "output_type": "execute_result"
    }
   ],
   "source": [
    "#Cp2 = inv(BTA)Op2\n",
    "Cp2 = OTCinv.dot(Op2)\n",
    "np.delete(Cp2,3,axis=0)"
   ]
  },
  {
   "cell_type": "code",
   "execution_count": 16,
   "metadata": {},
   "outputs": [
    {
     "data": {
      "text/plain": [
       "array([[ 1. ,  0. ,  0. , -2. ],\n",
       "       [ 0. ,  0. , -1. ,  2. ],\n",
       "       [ 0. ,  1. ,  0. ,  0.5],\n",
       "       [ 0. ,  0. ,  0. ,  1. ]])"
      ]
     },
     "execution_count": 16,
     "metadata": {},
     "output_type": "execute_result"
    }
   ],
   "source": [
    "OTA"
   ]
  },
  {
   "cell_type": "code",
   "execution_count": 17,
   "metadata": {},
   "outputs": [],
   "source": [
    "def validRotMat(R):\n",
    "    Det = np.linalg.det(R).round(3)\n",
    "    RTR = np.dot(R.T,R).round(3)\n",
    "    if Det == RTR[0][0]==RTR[1][1]==RTR[2][2]==1:\n",
    "        print(\"valid\") \n",
    "    else:\n",
    "        print(\"not valid\")\n",
    "        print(f\"R.T.dot(R) =\\n {RTR}\")\n",
    "        print(f\"and np.linalg.det(R) = {Det}\")"
   ]
  },
  {
   "cell_type": "code",
   "execution_count": 18,
   "metadata": {},
   "outputs": [
    {
     "name": "stdout",
     "output_type": "stream",
     "text": [
      "not valid\n",
      "R.T.dot(R) =\n",
      " [[1 1 0]\n",
      " [1 1 0]\n",
      " [0 0 1]]\n",
      "and np.linalg.det(R) = 0.0\n"
     ]
    }
   ],
   "source": [
    "R = np.array([\n",
    "    [1,1,0],\n",
    "    [0,0,0],\n",
    "    [0,0,1]\n",
    "])\n",
    "validRotMat(R)"
   ]
  },
  {
   "cell_type": "code",
   "execution_count": 19,
   "metadata": {},
   "outputs": [
    {
     "name": "stdout",
     "output_type": "stream",
     "text": [
      "valid\n"
     ]
    }
   ],
   "source": [
    "sqr2 = np.sqrt(2)\n",
    "R = np.array([\n",
    "    [sqr2/2.0,-sqr2/2.0,0],\n",
    "    [sqr2/2.0,sqr2/2.0,0],\n",
    "    [0,0,1]\n",
    "])\n",
    "validRotMat(R)"
   ]
  },
  {
   "cell_type": "code",
   "execution_count": 20,
   "metadata": {},
   "outputs": [
    {
     "name": "stdout",
     "output_type": "stream",
     "text": [
      "not valid\n",
      "R.T.dot(R) =\n",
      " [[ 1.     0.    -0.876]\n",
      " [ 0.     1.     0.   ]\n",
      " [-0.876  0.     1.035]]\n",
      "and np.linalg.det(R) = -0.517\n"
     ]
    }
   ],
   "source": [
    "R = np.array([\n",
    "    [-0.5, 0, 0.886],\n",
    "    [0, 1, 0],\n",
    "    [0.866, 0 , -0.5]\n",
    "])\n",
    "validRotMat(R)"
   ]
  },
  {
   "cell_type": "code",
   "execution_count": 21,
   "metadata": {},
   "outputs": [],
   "source": [
    "import robotteknikk as rob"
   ]
  },
  {
   "cell_type": "code",
   "execution_count": 22,
   "metadata": {},
   "outputs": [],
   "source": [
    "def RollPitchYaw(theta,phi,psi): \n",
    "    Rx = rotMat(theta,'x')\n",
    "    Ry = rotMat(phi,'y')\n",
    "    Rz = rotMat(psi,'z')\n",
    "    R = Rx.dot(Ry).dot(Rz)\n",
    "    return R.round(3)"
   ]
  },
  {
   "cell_type": "code",
   "execution_count": 23,
   "metadata": {},
   "outputs": [],
   "source": [
    "Tta = np.pi/4\n",
    "phi = np.pi/6\n",
    "psi = -np.pi/2\n",
    "R = RollPitchYaw(Tta,phi,psi)"
   ]
  },
  {
   "cell_type": "code",
   "execution_count": 24,
   "metadata": {},
   "outputs": [],
   "source": [
    "#Sets figure size\n",
    "width = 6\n",
    "height = 6\n",
    "plt.rcParams['figure.figsize'] = [width, height] "
   ]
  },
  {
   "cell_type": "code",
   "execution_count": 25,
   "metadata": {},
   "outputs": [
    {
     "data": {
      "image/png": "[encoded data removed]",
      "text/plain": [
       "<Figure size 432x432 with 1 Axes>"
      ]
     },
     "metadata": {
      "needs_background": "light"
     },
     "output_type": "display_data"
    }
   ],
   "source": [
    "t0 = np.zeros([3,1])\n",
    "T = transMat(R,t0)\n",
    "fig = plt.figure()\n",
    "ax = plt.axes(projection='3d')\n",
    "rob.trplot3(ax,T, name='O')"
   ]
  },
  {
   "cell_type": "code",
   "execution_count": 26,
   "metadata": {},
   "outputs": [],
   "source": [
    "def UnitQuaternion(R):\n",
    "    if R.shape != (3,3):\n",
    "        print('This function needs a 3x3 rotation matrix')\n",
    "    else:\n",
    "        q0 = np.sqrt(1+R[0][0]+R[1][1]+R[2][2])/2\n",
    "        q1 = (R[2][1]-R[1][2])/(4*q0)\n",
    "        q2 = (R[0][2]-R[2][0])/(4*q0)\n",
    "        q3 = (R[1][0]-2*R[0][1])/(4*q0)\n",
    "        q = np.array([[q1],[q2],[q3]])\n",
    "        return q        "
   ]
  },
  {
   "cell_type": "code",
   "execution_count": 27,
   "metadata": {},
   "outputs": [
    {
     "data": {
      "text/plain": [
       "array([[ 0.43063251],\n",
       "       [ 0.09227839],\n",
       "       [-1.08728021]])"
      ]
     },
     "execution_count": 27,
     "metadata": {},
     "output_type": "execute_result"
    }
   ],
   "source": [
    "Q = UnitQuaternion(R)\n",
    "Q"
   ]
  },
  {
   "cell_type": "code",
   "execution_count": 28,
   "metadata": {},
   "outputs": [],
   "source": [
    "def skew(vec):\n",
    "    #This function makes a skew-symmetric-matrix of a vector\n",
    "    v1 = vec[0][0]\n",
    "    v2 = vec[1][0]\n",
    "    v3 = vec[2][0]\n",
    "    mat = np.array([\n",
    "        [0, -v3, v2],\n",
    "        [v3, 0, -v1],\n",
    "        [-v2, v1, 0]\n",
    "    ])\n",
    "    return mat\n",
    "\n",
    "def angVec2rotMat(Tta,vec):\n",
    "    \"\"\"\n",
    "    This function uses Rodriges formula to take vector-angle\n",
    "    representation and turn int into a rotationmatrix\n",
    "    \"\"\"\n",
    "    s = np.sqrt(vec.T.dot(vec))\n",
    "    v = vec/s # Normalize v => unit lenght\n",
    "    I = np.eye(3) \n",
    "    S = skew(v) \n",
    "    R = I + np.sin(Tta)*S + (1-np.cos(Tta))*(np.outer(v,v)-I)\n",
    "    return R"
   ]
  },
  {
   "cell_type": "code",
   "execution_count": 29,
   "metadata": {},
   "outputs": [
    {
     "data": {
      "text/plain": [
       "array([[ 0.9045085 , -0.0954915 ,  0.41562694],\n",
       "       [-0.0954915 ,  0.9045085 ,  0.41562694],\n",
       "       [-0.41562694, -0.41562694,  0.80901699]])"
      ]
     },
     "execution_count": 29,
     "metadata": {},
     "output_type": "execute_result"
    }
   ],
   "source": [
    "xi = np.pi/5\n",
    "vec = np.array([\n",
    "    [-np.sqrt(2)/2],\n",
    "    [np.sqrt(2)/2],\n",
    "    [0]\n",
    "])\n",
    "R = angVec2rotMat(xi,vec)\n",
    "R"
   ]
  },
  {
   "cell_type": "code",
   "execution_count": 30,
   "metadata": {},
   "outputs": [
    {
     "data": {
      "text/plain": [
       "array([[-0.21850801],\n",
       "       [ 0.21850801],\n",
       "       [ 0.02510143]])"
      ]
     },
     "execution_count": 30,
     "metadata": {},
     "output_type": "execute_result"
    }
   ],
   "source": [
    "UnitQuaternion(R)"
   ]
  },
  {
   "cell_type": "code",
   "execution_count": 31,
   "metadata": {},
   "outputs": [],
   "source": [
    "Tta = np.pi/4\n",
    "phi = np.pi/6\n",
    "psi = -np.pi/2\n",
    "R = RollPitchYaw(Tta,phi,psi)"
   ]
  },
  {
   "cell_type": "code",
   "execution_count": 32,
   "metadata": {},
   "outputs": [
    {
     "name": "stdout",
     "output_type": "stream",
     "text": [
      "(-0.371+0.929j)\n",
      "(-0.371-0.929j)\n",
      "(1+0j)\n"
     ]
    }
   ],
   "source": [
    "eigen, vec = np.linalg.eig(R)\n",
    "for val in eigen:\n",
    "    print(val.round(3))"
   ]
  },
  {
   "cell_type": "code",
   "execution_count": 33,
   "metadata": {},
   "outputs": [
    {
     "name": "stdout",
     "output_type": "stream",
     "text": [
      "[-0.041-0.603j -0.041+0.603j -0.52 +0.j   ]\n",
      "[ 0.703+0.j  0.703-0.j -0.111+0.j]\n",
      "[0.067-0.37j 0.067+0.37j 0.847+0.j  ]\n"
     ]
    }
   ],
   "source": [
    "for row in vec:\n",
    "    print(row.round(3))"
   ]
  },
  {
   "cell_type": "code",
   "execution_count": 34,
   "metadata": {},
   "outputs": [
    {
     "data": {
      "text/plain": [
       "array([[-0.52001553+0.j],\n",
       "       [-0.11128576+0.j],\n",
       "       [ 0.84687622+0.j]])"
      ]
     },
     "execution_count": 34,
     "metadata": {},
     "output_type": "execute_result"
    }
   ],
   "source": [
    "col = vec[:,2]\n",
    "col.shape = 3,1\n",
    "col"
   ]
  },
  {
   "cell_type": "code",
   "execution_count": 35,
   "metadata": {},
   "outputs": [
    {
     "data": {
      "text/plain": [
       "array([[-0.52001553],\n",
       "       [-0.11128576],\n",
       "       [ 0.84687622]])"
      ]
     },
     "execution_count": 35,
     "metadata": {},
     "output_type": "execute_result"
    }
   ],
   "source": [
    "np.real(col)"
   ]
  },
  {
   "cell_type": "code",
   "execution_count": 36,
   "metadata": {},
   "outputs": [],
   "source": [
    "def rotMat2angVec(R):\n",
    "    \"\"\"\n",
    "    This function takes a rotation matrix and returns \n",
    "    the equivalent vector and angle representation\n",
    "    \"\"\"\n",
    "    eigVal, eigVec = np.linalg.eig(R)\n",
    "    pos = 0\n",
    "    for val in eigVal:\n",
    "        if np.real(val.round(3)) == 1:\n",
    "            realEigVal_pos = pos\n",
    "        elif np.angle(val)>0:\n",
    "            angle = np.angle(val)\n",
    "        pos += 1\n",
    "    vec = np.real(eigVec[:,realEigVal_pos])\n",
    "    vec.shape = 3,1\n",
    "    return vec, angle"
   ]
  },
  {
   "cell_type": "code",
   "execution_count": 37,
   "metadata": {},
   "outputs": [
    {
     "data": {
      "text/plain": [
       "array([[-0.52001553],\n",
       "       [-0.11128576],\n",
       "       [ 0.84687622]])"
      ]
     },
     "execution_count": 37,
     "metadata": {},
     "output_type": "execute_result"
    }
   ],
   "source": [
    "vec, Tta = rotMat2angVec(R)\n",
    "vec"
   ]
  },
  {
   "cell_type": "code",
   "execution_count": 38,
   "metadata": {},
   "outputs": [
    {
     "data": {
      "text/plain": [
       "111.76430143942149"
      ]
     },
     "execution_count": 38,
     "metadata": {},
     "output_type": "execute_result"
    }
   ],
   "source": [
    "np.degrees(Tta)"
   ]
  }
 ],
 "metadata": {
  "kernelspec": {
   "display_name": "Python 3",
   "language": "python",
   "name": "python3"
  },
  "language_info": {
   "codemirror_mode": {
    "name": "ipython",
    "version": 3
   },
   "file_extension": ".py",
   "mimetype": "text/x-python",
   "name": "python",
   "nbconvert_exporter": "python",
   "pygments_lexer": "ipython3",
   "version": "3.7.7"
  }
 },
 "nbformat": 4,
 "nbformat_minor": 4
}
